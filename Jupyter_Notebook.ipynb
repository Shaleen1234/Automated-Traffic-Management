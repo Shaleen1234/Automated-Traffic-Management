{
  "cells": [
    {
      "cell_type": "code",
      "execution_count": null,
      "metadata": {
        "id": "_xQbzmbstkbT"
      },
      "outputs": [],
      "source": [
        "!pip install -r requirements.txt"
      ]
    },
    {
      "cell_type": "code",
      "execution_count": null,
      "metadata": {
        "id": "n5vgQpkctnh4"
      },
      "outputs": [],
      "source": [
        "import torch\n",
        "torch.cuda.is_available() \n",
        "torch.cuda.get_device_name(0)"
      ]
    },
    {
      "cell_type": "code",
      "execution_count": 3,
      "metadata": {
        "colab": {
          "base_uri": "https://localhost:8080/"
        },
        "id": "jTisA7nItsv0",
        "outputId": "6e98bb0d-ca1e-44b9-89f8-81e788083dc3"
      },
      "outputs": [
        {
          "name": "stdout",
          "output_type": "stream",
          "text": [
            "Enter the Youtube URL - https://www.youtube.com/watch?v=zxKFAsQzmTY\n"
          ]
        }
      ],
      "source": [
        "input_file = input(\"Enter the Youtube URL - \")"
      ]
    },
    {
      "cell_type": "code",
      "execution_count": null,
      "metadata": {
        "id": "7NPbZvlTt8Gs"
      },
      "outputs": [],
      "source": [
        "!python track.py --source {input_file} --save-vid --strong-sort-weights osnet_x0_25_msmt17.pt"
      ]
    }
  ],
  "metadata": {
    "colab": {
      "name": "Untitled5.ipynb",
      "provenance": []
    },
    "kernelspec": {
      "display_name": "Python 3",
      "name": "python3"
    },
    "language_info": {
      "name": "python"
    }
  },
  "nbformat": 4,
  "nbformat_minor": 0
}
